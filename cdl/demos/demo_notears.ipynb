{
 "cells": [
  {
   "cell_type": "code",
   "execution_count": 3,
   "metadata": {
    "collapsed": true,
    "pycharm": {
     "name": "#%%\n"
    }
   },
   "outputs": [
    {
     "name": "stdout",
     "output_type": "stream",
     "text": [
      "im in r\n"
     ]
    }
   ],
   "source": [
    "from cdl.data import sachs\n",
    "from cdl.metrics import evaluate_graph\n",
    "from cdl.utils import is_dag\n",
    "from cdl.models.notears import notears_linear"
   ]
  },
  {
   "cell_type": "code",
   "execution_count": 8,
   "outputs": [
    {
     "data": {
      "text/plain": "{'SHD': 11,\n 'TPR': 0.4117647058823529,\n 'FPR': 0.21052631578947367,\n 'FDR': 0.5333333333333333}"
     },
     "execution_count": 8,
     "metadata": {},
     "output_type": "execute_result"
    }
   ],
   "source": [
    "G, X = sachs(as_df=False)\n",
    "G_est = notears_linear(X, lambda1=0.1, loss_type='l2')\n",
    "assert is_dag(G_est)\n",
    "acc = evaluate_graph(G, G_est != 0)\n",
    "acc"
   ],
   "metadata": {
    "collapsed": false,
    "pycharm": {
     "name": "#%%\n"
    }
   }
  }
 ],
 "metadata": {
  "kernelspec": {
   "display_name": "Python 3",
   "language": "python",
   "name": "python3"
  },
  "language_info": {
   "codemirror_mode": {
    "name": "ipython",
    "version": 2
   },
   "file_extension": ".py",
   "mimetype": "text/x-python",
   "name": "python",
   "nbconvert_exporter": "python",
   "pygments_lexer": "ipython2",
   "version": "2.7.6"
  }
 },
 "nbformat": 4,
 "nbformat_minor": 0
}