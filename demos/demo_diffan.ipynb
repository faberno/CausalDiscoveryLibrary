{
 "cells": [
  {
   "cell_type": "code",
   "execution_count": 1,
   "metadata": {},
   "outputs": [],
   "source": [
    "import os\n",
    "import sys\n",
    "module_path = os.path.abspath(os.path.join('..'))\n",
    "if module_path not in sys.path:\n",
    "    sys.path.append(module_path)"
   ]
  },
  {
   "cell_type": "code",
   "execution_count": 4,
   "metadata": {
    "collapsed": true
   },
   "outputs": [],
   "source": [
    "from cdl.data import sachs\n",
    "from cdl.metrics import evaluate_graph\n",
    "from cdl.utils import is_dag\n",
    "from cdl.models.diffan import DiffAN"
   ]
  },
  {
   "cell_type": "code",
   "execution_count": 5,
   "metadata": {},
   "outputs": [
    {
     "name": "stderr",
     "output_type": "stream",
     "text": [
      "Training Epoch:  24%|██▍       | 731/3000 [00:03<00:12, 188.34it/s, Epoch Loss=0.541]\n"
     ]
    },
    {
     "name": "stdout",
     "output_type": "stream",
     "text": [
      "Early stoping at epoch 731\n",
      "Best model at epoch 430 with loss 0.5158721804618835\n"
     ]
    },
    {
     "name": "stderr",
     "output_type": "stream",
     "text": [
      "Nodes ordered : 100%|██████████| 10/10 [00:02<00:00,  3.63it/s]\n",
      "Loading required package: nlme\n",
      "This is mgcv 1.8-41. For overview type 'help(\"mgcv-package\")'.\n",
      "Error in file(filename, \"r\", encoding = encoding) : \n",
      "  cannot open the connection\n",
      "Calls: source -> file\n",
      "In addition: Warning message:\n",
      "In file(filename, \"r\", encoding = encoding) :\n",
      "  cannot open file 'diffan/pruning_R_files/train_gam.R': No such file or directory\n",
      "Execution halted\n"
     ]
    },
    {
     "name": "stdout",
     "output_type": "stream",
     "text": [
      "\n",
      "R Python Error Output \n",
      "-----------------------\n",
      "\n",
      "[Errno 2] No such file or directory: '/tmp/tmpqbwbojqf/results.csv'\n"
     ]
    },
    {
     "ename": "RuntimeError",
     "evalue": "RProcessError ",
     "output_type": "error",
     "traceback": [
      "\u001B[0;31m---------------------------------------------------------------------------\u001B[0m",
      "\u001B[0;31mRuntimeError\u001B[0m                              Traceback (most recent call last)",
      "Cell \u001B[0;32mIn[5], line 4\u001B[0m\n\u001B[1;32m      2\u001B[0m n_nodes \u001B[38;5;241m=\u001B[39m \u001B[38;5;28mlen\u001B[39m(G)\n\u001B[1;32m      3\u001B[0m diffan \u001B[38;5;241m=\u001B[39m DiffAN(n_nodes, residue\u001B[38;5;241m=\u001B[39m \u001B[38;5;28;01mTrue\u001B[39;00m, masking\u001B[38;5;241m=\u001B[39m\u001B[38;5;28;01mFalse\u001B[39;00m)\n\u001B[0;32m----> 4\u001B[0m G_est, order \u001B[38;5;241m=\u001B[39m \u001B[43mdiffan\u001B[49m\u001B[38;5;241;43m.\u001B[39;49m\u001B[43mfit\u001B[49m\u001B[43m(\u001B[49m\u001B[43mX\u001B[49m\u001B[43m)\u001B[49m\n",
      "File \u001B[0;32m~/PycharmProjects/CausalDiscoveryLibrary/cdl/models/diffan/diffan.py:58\u001B[0m, in \u001B[0;36mDiffAN.fit\u001B[0;34m(self, X)\u001B[0m\n\u001B[1;32m     56\u001B[0m \u001B[38;5;28mself\u001B[39m\u001B[38;5;241m.\u001B[39mtrain_score(X)\n\u001B[1;32m     57\u001B[0m order \u001B[38;5;241m=\u001B[39m \u001B[38;5;28mself\u001B[39m\u001B[38;5;241m.\u001B[39mtopological_ordering(X)\n\u001B[0;32m---> 58\u001B[0m out_dag \u001B[38;5;241m=\u001B[39m \u001B[38;5;28;43mself\u001B[39;49m\u001B[38;5;241;43m.\u001B[39;49m\u001B[43mpruning\u001B[49m\u001B[43m(\u001B[49m\u001B[43morder\u001B[49m\u001B[43m,\u001B[49m\u001B[43m \u001B[49m\u001B[43mX\u001B[49m\u001B[38;5;241;43m.\u001B[39;49m\u001B[43mdetach\u001B[49m\u001B[43m(\u001B[49m\u001B[43m)\u001B[49m\u001B[38;5;241;43m.\u001B[39;49m\u001B[43mcpu\u001B[49m\u001B[43m(\u001B[49m\u001B[43m)\u001B[49m\u001B[38;5;241;43m.\u001B[39;49m\u001B[43mnumpy\u001B[49m\u001B[43m(\u001B[49m\u001B[43m)\u001B[49m\u001B[43m)\u001B[49m\n\u001B[1;32m     59\u001B[0m \u001B[38;5;28;01mreturn\u001B[39;00m out_dag, order\n",
      "File \u001B[0;32m~/PycharmProjects/CausalDiscoveryLibrary/cdl/models/diffan/diffan.py:62\u001B[0m, in \u001B[0;36mDiffAN.pruning\u001B[0;34m(self, order, X)\u001B[0m\n\u001B[1;32m     61\u001B[0m \u001B[38;5;28;01mdef\u001B[39;00m \u001B[38;5;21mpruning\u001B[39m(\u001B[38;5;28mself\u001B[39m, order, X):\n\u001B[0;32m---> 62\u001B[0m     \u001B[38;5;28;01mreturn\u001B[39;00m \u001B[43mcam_pruning\u001B[49m\u001B[43m(\u001B[49m\u001B[43mfull_DAG\u001B[49m\u001B[43m(\u001B[49m\u001B[43morder\u001B[49m\u001B[43m)\u001B[49m\u001B[43m,\u001B[49m\u001B[43m \u001B[49m\u001B[43mX\u001B[49m\u001B[43m,\u001B[49m\u001B[43m \u001B[49m\u001B[38;5;28;43mself\u001B[39;49m\u001B[38;5;241;43m.\u001B[39;49m\u001B[43mcutoff\u001B[49m\u001B[43m)\u001B[49m\n",
      "File \u001B[0;32m~/PycharmProjects/CausalDiscoveryLibrary/cdl/models/diffan/pruning.py:35\u001B[0m, in \u001B[0;36mcam_pruning\u001B[0;34m(A, X, cutoff)\u001B[0m\n\u001B[1;32m     32\u001B[0m         os\u001B[38;5;241m.\u001B[39mremove(arguments[\u001B[38;5;124m'\u001B[39m\u001B[38;5;132;01m{PATH_DAG}\u001B[39;00m\u001B[38;5;124m'\u001B[39m])\n\u001B[1;32m     33\u001B[0m         \u001B[38;5;28;01mreturn\u001B[39;00m A\n\u001B[0;32m---> 35\u001B[0m     dag \u001B[38;5;241m=\u001B[39m \u001B[43mlaunch_R_script\u001B[49m\u001B[43m(\u001B[49m\u001B[38;5;28;43mstr\u001B[39;49m\u001B[43m(\u001B[49m\u001B[43mpruning_path\u001B[49m\u001B[43m)\u001B[49m\u001B[43m,\u001B[49m\u001B[43m \u001B[49m\u001B[43marguments\u001B[49m\u001B[43m,\u001B[49m\u001B[43m \u001B[49m\u001B[43moutput_function\u001B[49m\u001B[38;5;241;43m=\u001B[39;49m\u001B[43mretrieve_result\u001B[49m\u001B[43m)\u001B[49m\n\u001B[1;32m     36\u001B[0m \u001B[38;5;28;01mreturn\u001B[39;00m dag\n",
      "File \u001B[0;32m~/anaconda3/envs/myenv/lib/python3.9/site-packages/cdt/utils/R.py:224\u001B[0m, in \u001B[0;36mlaunch_R_script\u001B[0;34m(template, arguments, output_function, verbose, debug)\u001B[0m\n\u001B[1;32m    222\u001B[0m         \u001B[38;5;28mprint\u001B[39m(\u001B[38;5;124m\"\u001B[39m\u001B[38;5;130;01m\\n\u001B[39;00m\u001B[38;5;124mR Python Error Output \u001B[39m\u001B[38;5;130;01m\\n\u001B[39;00m\u001B[38;5;124m-----------------------\u001B[39m\u001B[38;5;130;01m\\n\u001B[39;00m\u001B[38;5;124m\"\u001B[39m)\n\u001B[1;32m    223\u001B[0m         \u001B[38;5;28mprint\u001B[39m(e)\n\u001B[0;32m--> 224\u001B[0m         \u001B[38;5;28;01mraise\u001B[39;00m \u001B[38;5;167;01mRuntimeError\u001B[39;00m(\u001B[38;5;124m\"\u001B[39m\u001B[38;5;124mRProcessError \u001B[39m\u001B[38;5;124m\"\u001B[39m) \u001B[38;5;28;01mfrom\u001B[39;00m \u001B[38;5;28mNone\u001B[39m\n\u001B[1;32m    226\u001B[0m \u001B[38;5;28;01mif\u001B[39;00m \u001B[38;5;129;01mnot\u001B[39;00m debug:\n\u001B[1;32m    227\u001B[0m     rmtree(base_dir)\n",
      "\u001B[0;31mRuntimeError\u001B[0m: RProcessError "
     ]
    }
   ],
   "source": [
    "G, X = sachs(as_df=False)\n",
    "n_nodes = len(G)\n",
    "diffan = DiffAN(n_nodes, residue= True, masking=False)\n",
    "G_est, order = diffan.fit(X)\n",
    "# mt = MetricsDAG(adj_matrix, true_causal_matrix).metrics\n",
    "# mt[\"sid\"] = SID(true_causal_matrix, adj_matrix).item()\n",
    "#     print(mt)\n",
    "# assert is_dag(G_est)\n",
    "# acc = evaluate_graph(G, G_est != 0)\n",
    "# acc"
   ]
  }
 ],
 "metadata": {
  "kernelspec": {
   "display_name": "Python 3 (ipykernel)",
   "language": "python",
   "name": "python3"
  },
  "language_info": {
   "codemirror_mode": {
    "name": "ipython",
    "version": 3
   },
   "file_extension": ".py",
   "mimetype": "text/x-python",
   "name": "python",
   "nbconvert_exporter": "python",
   "pygments_lexer": "ipython3",
   "version": "3.9.15"
  }
 },
 "nbformat": 4,
 "nbformat_minor": 1
}
